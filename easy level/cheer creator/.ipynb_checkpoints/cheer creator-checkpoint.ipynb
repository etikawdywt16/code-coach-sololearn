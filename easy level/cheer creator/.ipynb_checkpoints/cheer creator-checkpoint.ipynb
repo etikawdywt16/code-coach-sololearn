{
 "cells": [
  {
   "cell_type": "code",
   "execution_count": 2,
   "id": "e6e047a8",
   "metadata": {},
   "outputs": [
    {
     "name": "stdout",
     "output_type": "stream",
     "text": [
      "Number of yards gained by your team: 9\n",
      "Cheer: Ra!Ra!Ra!Ra!Ra!Ra!Ra!Ra!Ra!\n"
     ]
    }
   ],
   "source": [
    "yards = int(input(\"Number of yards gained by your team: \"))\n",
    "\n",
    "print(\"Cheer:\", end = \" \")\n",
    "if yards > 10:\n",
    "    print(\"High Five\")\n",
    "elif yards >= 1:\n",
    "    print(yards * \"Ra!\")\n",
    "else:\n",
    "    print(\"shh\")"
   ]
  }
 ],
 "metadata": {
  "kernelspec": {
   "display_name": "Python 3",
   "language": "python",
   "name": "python3"
  },
  "language_info": {
   "codemirror_mode": {
    "name": "ipython",
    "version": 3
   },
   "file_extension": ".py",
   "mimetype": "text/x-python",
   "name": "python",
   "nbconvert_exporter": "python",
   "pygments_lexer": "ipython3",
   "version": "3.8.8"
  }
 },
 "nbformat": 4,
 "nbformat_minor": 5
}
