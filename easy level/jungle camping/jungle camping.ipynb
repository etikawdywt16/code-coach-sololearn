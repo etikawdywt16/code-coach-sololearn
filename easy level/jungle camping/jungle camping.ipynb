{
 "cells": [
  {
   "cell_type": "code",
   "execution_count": 5,
   "id": "b63643be",
   "metadata": {},
   "outputs": [
    {
     "name": "stdout",
     "output_type": "stream",
     "text": [
      "Noise: Ssss Rawr\n",
      "Animal: Snake Tiger "
     ]
    }
   ],
   "source": [
    "noise = input(\"Noise: \").split()\n",
    "\n",
    "animal_noise = {\"Grr\" : \"Lion\",\n",
    "               \"Rawr\" : \"Tiger\",\n",
    "               \"Ssss\" : \"Snake\",\n",
    "               \"Chirp\" : \"Bird\"}\n",
    "\n",
    "print(\"Animal: \", end = \"\")\n",
    "for i in noise:\n",
    "    print(animal_noise[i], end = \" \")"
   ]
  }
 ],
 "metadata": {
  "kernelspec": {
   "display_name": "Python 3",
   "language": "python",
   "name": "python3"
  },
  "language_info": {
   "codemirror_mode": {
    "name": "ipython",
    "version": 3
   },
   "file_extension": ".py",
   "mimetype": "text/x-python",
   "name": "python",
   "nbconvert_exporter": "python",
   "pygments_lexer": "ipython3",
   "version": "3.8.8"
  }
 },
 "nbformat": 4,
 "nbformat_minor": 5
}
