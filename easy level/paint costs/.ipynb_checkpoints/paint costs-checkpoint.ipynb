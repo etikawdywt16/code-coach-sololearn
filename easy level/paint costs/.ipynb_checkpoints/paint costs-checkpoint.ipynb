{
 "cells": [
  {
   "cell_type": "code",
   "execution_count": 1,
   "id": "b97585d3",
   "metadata": {},
   "outputs": [
    {
     "name": "stdout",
     "output_type": "stream",
     "text": [
      "The number of colors: 2\n",
      "Total costs : 50\n"
     ]
    }
   ],
   "source": [
    "colors = int(input(\"The number of colors: \"))\n",
    "\n",
    "total = int(round(40 + 5 * colors, 0))\n",
    "print(\"Total costs : \" + str(total))"
   ]
  }
 ],
 "metadata": {
  "kernelspec": {
   "display_name": "Python 3",
   "language": "python",
   "name": "python3"
  },
  "language_info": {
   "codemirror_mode": {
    "name": "ipython",
    "version": 3
   },
   "file_extension": ".py",
   "mimetype": "text/x-python",
   "name": "python",
   "nbconvert_exporter": "python",
   "pygments_lexer": "ipython3",
   "version": "3.8.8"
  }
 },
 "nbformat": 4,
 "nbformat_minor": 5
}
