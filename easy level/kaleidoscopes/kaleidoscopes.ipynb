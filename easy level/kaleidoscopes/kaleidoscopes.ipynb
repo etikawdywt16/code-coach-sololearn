{
 "cells": [
  {
   "cell_type": "code",
   "execution_count": 3,
   "id": "0b53883e",
   "metadata": {},
   "outputs": [
    {
     "name": "stdout",
     "output_type": "stream",
     "text": [
      "How many souvenir did you buy?4\n",
      "Total price: 19.26\n"
     ]
    }
   ],
   "source": [
    "kaleidoscopes = int(input(\"How many souvenir did you buy?\"))\n",
    "\n",
    "if kaleidoscopes > 1:\n",
    "    total = (kaleidoscopes * 5) * 0.9 * 1.07\n",
    "else:\n",
    "    total = 5 * 1.07\n",
    "\n",
    "print(\"Total price: \" + str(round(total,2)))"
   ]
  }
 ],
 "metadata": {
  "kernelspec": {
   "display_name": "Python 3",
   "language": "python",
   "name": "python3"
  },
  "language_info": {
   "codemirror_mode": {
    "name": "ipython",
    "version": 3
   },
   "file_extension": ".py",
   "mimetype": "text/x-python",
   "name": "python",
   "nbconvert_exporter": "python",
   "pygments_lexer": "ipython3",
   "version": "3.8.8"
  }
 },
 "nbformat": 4,
 "nbformat_minor": 5
}
