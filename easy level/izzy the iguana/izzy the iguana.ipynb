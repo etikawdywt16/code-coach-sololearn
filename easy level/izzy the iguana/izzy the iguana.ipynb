{
 "cells": [
  {
   "cell_type": "code",
   "execution_count": 1,
   "id": "e4ef31bd",
   "metadata": {},
   "outputs": [
    {
     "name": "stdout",
     "output_type": "stream",
     "text": [
      "Snacks you have:Carrot Carrot Carrot\n",
      "What to do? Come on Down!\n"
     ]
    }
   ],
   "source": [
    "snacks = input(\"Snacks you have:\").split()\n",
    "\n",
    "snacks_dict = {\"Lettuce\": 5, \"Carrot\": 4, \"Mango\": 9, \"Cheeseburger\": 0}\n",
    "\n",
    "total = 0\n",
    "for i in snacks:\n",
    "  total += snacks_dict[i]\n",
    "\n",
    "print(\"What to do?\", end = \" \")\n",
    "if total < 10:\n",
    "  print(\"Time to wait\")\n",
    "else:\n",
    "  print(\"Come on Down!\")"
   ]
  }
 ],
 "metadata": {
  "kernelspec": {
   "display_name": "Python 3",
   "language": "python",
   "name": "python3"
  },
  "language_info": {
   "codemirror_mode": {
    "name": "ipython",
    "version": 3
   },
   "file_extension": ".py",
   "mimetype": "text/x-python",
   "name": "python",
   "nbconvert_exporter": "python",
   "pygments_lexer": "ipython3",
   "version": "3.8.8"
  }
 },
 "nbformat": 4,
 "nbformat_minor": 5
}
