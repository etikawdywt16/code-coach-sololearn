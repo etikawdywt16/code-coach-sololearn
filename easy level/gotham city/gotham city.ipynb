{
 "cells": [
  {
   "cell_type": "code",
   "execution_count": 3,
   "id": "95f0d63c",
   "metadata": {},
   "outputs": [
    {
     "name": "stdout",
     "output_type": "stream",
     "text": [
      "Total criminals: 7\n",
      "What should you say? Help me Batman\n"
     ]
    }
   ],
   "source": [
    "criminals = int(input(\"Total criminals: \"))\n",
    "\n",
    "print(\"What should you say?\", end = \" \")\n",
    "if criminals < 5:\n",
    "    print(\"I got this!\")\n",
    "elif criminals <= 10:\n",
    "    print(\"Help me Batman\")\n",
    "else:\n",
    "    print(\"Good Luck out there!\")"
   ]
  }
 ],
 "metadata": {
  "kernelspec": {
   "display_name": "Python 3",
   "language": "python",
   "name": "python3"
  },
  "language_info": {
   "codemirror_mode": {
    "name": "ipython",
    "version": 3
   },
   "file_extension": ".py",
   "mimetype": "text/x-python",
   "name": "python",
   "nbconvert_exporter": "python",
   "pygments_lexer": "ipython3",
   "version": "3.8.8"
  }
 },
 "nbformat": 4,
 "nbformat_minor": 5
}
