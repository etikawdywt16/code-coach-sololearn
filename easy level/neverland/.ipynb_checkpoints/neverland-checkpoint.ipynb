{
 "cells": [
  {
   "cell_type": "code",
   "execution_count": 2,
   "id": "9fee22a0",
   "metadata": {},
   "outputs": [
    {
     "name": "stdout",
     "output_type": "stream",
     "text": [
      "My age when arrived at Neverland: 8\n",
      "The numbers of years that have passed: 4\n",
      "My twin is 8 years old and they are 4 years older than me\n"
     ]
    }
   ],
   "source": [
    "x = int(input(\"My age when arrived at Neverland: \"))\n",
    "y = int(input(\"The numbers of years that have passed: \"))\n",
    "\n",
    "print(\"My twin is {x} years old and they are {y} years older than me\". format(x = x, y = y))"
   ]
  }
 ],
 "metadata": {
  "kernelspec": {
   "display_name": "Python 3",
   "language": "python",
   "name": "python3"
  },
  "language_info": {
   "codemirror_mode": {
    "name": "ipython",
    "version": 3
   },
   "file_extension": ".py",
   "mimetype": "text/x-python",
   "name": "python",
   "nbconvert_exporter": "python",
   "pygments_lexer": "ipython3",
   "version": "3.8.8"
  }
 },
 "nbformat": 4,
 "nbformat_minor": 5
}
