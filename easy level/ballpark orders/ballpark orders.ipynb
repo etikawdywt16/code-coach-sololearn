{
 "cells": [
  {
   "cell_type": "code",
   "execution_count": 1,
   "id": "1bb532b5",
   "metadata": {},
   "outputs": [
    {
     "name": "stdout",
     "output_type": "stream",
     "text": [
      "Popcorn Pizza\n",
      "11.77\n"
     ]
    }
   ],
   "source": [
    "order = input()\n",
    "order = order.split()\n",
    "\n",
    "menu = {\"Nachos\" : 6, \"Pizza\" : 6, \"Cheeseburger\" : 10, \"Water\" : 4, \"Coke\" : 5}\n",
    "\n",
    "total = 0\n",
    "for i in range(len(order)):\n",
    "    if order[i] in menu.keys():\n",
    "        total += menu[order[i]]\n",
    "    else:\n",
    "        total += menu[\"Coke\"]\n",
    "\n",
    "print(round(total * 1.07, 2))"
   ]
  }
 ],
 "metadata": {
  "kernelspec": {
   "display_name": "Python 3",
   "language": "python",
   "name": "python3"
  },
  "language_info": {
   "codemirror_mode": {
    "name": "ipython",
    "version": 3
   },
   "file_extension": ".py",
   "mimetype": "text/x-python",
   "name": "python",
   "nbconvert_exporter": "python",
   "pygments_lexer": "ipython3",
   "version": "3.8.8"
  }
 },
 "nbformat": 4,
 "nbformat_minor": 5
}
