{
 "cells": [
  {
   "cell_type": "code",
   "execution_count": 1,
   "id": "b36f2181",
   "metadata": {},
   "outputs": [
    {
     "name": "stdout",
     "output_type": "stream",
     "text": [
      "Length of the front yard: 10\n",
      "Width of the front yard: 25\n",
      "The total number of flamingos: 35\n"
     ]
    }
   ],
   "source": [
    "length = int(input(\"Length of the front yard: \"))\n",
    "width = int(input(\"Width of the front yard: \"))\n",
    "\n",
    "perimeter = 2 * (length + width)\n",
    "\n",
    "print(\"The total number of flamingos: \", end = \"\")\n",
    "print(int(perimeter /2))"
   ]
  }
 ],
 "metadata": {
  "kernelspec": {
   "display_name": "Python 3",
   "language": "python",
   "name": "python3"
  },
  "language_info": {
   "codemirror_mode": {
    "name": "ipython",
    "version": 3
   },
   "file_extension": ".py",
   "mimetype": "text/x-python",
   "name": "python",
   "nbconvert_exporter": "python",
   "pygments_lexer": "ipython3",
   "version": "3.8.8"
  }
 },
 "nbformat": 4,
 "nbformat_minor": 5
}
