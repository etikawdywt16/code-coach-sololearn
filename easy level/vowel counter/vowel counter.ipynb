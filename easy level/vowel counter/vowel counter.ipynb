{
 "cells": [
  {
   "cell_type": "code",
   "execution_count": 3,
   "id": "c6af8672",
   "metadata": {},
   "outputs": [
    {
     "name": "stdout",
     "output_type": "stream",
     "text": [
      "Input a sentence: Is there a life in Mars?\n",
      "Total number of vowel: 8\n"
     ]
    }
   ],
   "source": [
    "sentence = input(\"Input a sentence: \")\n",
    "\n",
    "vowel = {\"a\", \"i\", \"u\", \"e\", \"o\"}\n",
    "\n",
    "count = 0\n",
    "for i in sentence.lower():\n",
    "    if i in vowel:\n",
    "        count += 1\n",
    "\n",
    "print(\"Total number of vowel:\", count)"
   ]
  }
 ],
 "metadata": {
  "kernelspec": {
   "display_name": "Python 3",
   "language": "python",
   "name": "python3"
  },
  "language_info": {
   "codemirror_mode": {
    "name": "ipython",
    "version": 3
   },
   "file_extension": ".py",
   "mimetype": "text/x-python",
   "name": "python",
   "nbconvert_exporter": "python",
   "pygments_lexer": "ipython3",
   "version": "3.8.8"
  }
 },
 "nbformat": 4,
 "nbformat_minor": 5
}
