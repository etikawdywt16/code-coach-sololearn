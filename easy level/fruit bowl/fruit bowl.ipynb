{
 "cells": [
  {
   "cell_type": "code",
   "execution_count": 1,
   "id": "edd94fb4",
   "metadata": {},
   "outputs": [
    {
     "name": "stdout",
     "output_type": "stream",
     "text": [
      "How many fruit do you have? 8\n",
      "How many apple pie can you make? 1\n"
     ]
    }
   ],
   "source": [
    "fruit = int(input(\"How many fruit do you have? \"))\n",
    "\n",
    "apples = fruit / 2\n",
    "pie = int(apples // 3)\n",
    "print(\"How many apple pie can you make? \" + str(pie))"
   ]
  }
 ],
 "metadata": {
  "kernelspec": {
   "display_name": "Python 3",
   "language": "python",
   "name": "python3"
  },
  "language_info": {
   "codemirror_mode": {
    "name": "ipython",
    "version": 3
   },
   "file_extension": ".py",
   "mimetype": "text/x-python",
   "name": "python",
   "nbconvert_exporter": "python",
   "pygments_lexer": "ipython3",
   "version": "3.8.8"
  }
 },
 "nbformat": 4,
 "nbformat_minor": 5
}
