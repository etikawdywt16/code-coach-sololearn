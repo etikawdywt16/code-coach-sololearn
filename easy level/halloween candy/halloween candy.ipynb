{
 "cells": [
  {
   "cell_type": "code",
   "execution_count": 5,
   "id": "370f2f9b",
   "metadata": {},
   "outputs": [
    {
     "name": "stdout",
     "output_type": "stream",
     "text": [
      "How many houses you visit? 9\n",
      "Percentage chance get a dollar bill from your bag: 23%\n"
     ]
    }
   ],
   "source": [
    "from math import ceil\n",
    "\n",
    "houses = int(input(\"How many houses you visit? \"))\n",
    "\n",
    "if houses >= 3:\n",
    "  prob = 2 / houses * 100\n",
    "  print(\"Percentage chance get a dollar bill from your bag: \" + str(ceil(prob)) + \"%\")"
   ]
  }
 ],
 "metadata": {
  "kernelspec": {
   "display_name": "Python 3",
   "language": "python",
   "name": "python3"
  },
  "language_info": {
   "codemirror_mode": {
    "name": "ipython",
    "version": 3
   },
   "file_extension": ".py",
   "mimetype": "text/x-python",
   "name": "python",
   "nbconvert_exporter": "python",
   "pygments_lexer": "ipython3",
   "version": "3.8.8"
  }
 },
 "nbformat": 4,
 "nbformat_minor": 5
}
