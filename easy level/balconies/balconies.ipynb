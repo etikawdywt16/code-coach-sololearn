{
 "cells": [
  {
   "cell_type": "code",
   "execution_count": 4,
   "id": "169aba7d",
   "metadata": {},
   "outputs": [
    {
     "name": "stdout",
     "output_type": "stream",
     "text": [
      "Height, width of Apartement A balcony: 5, 5\n",
      "Height, width of Apartement B balcony: 2, 10\n",
      "Which apartment has bigger balcony? Apartement A\n"
     ]
    }
   ],
   "source": [
    "length_A, width_A = input(\"Height, width of Apartement A balcony: \").split(',')\n",
    "length_B, width_B = input(\"Height, width of Apartement B balcony: \").split(',')\n",
    "\n",
    "area_A = float(length_A) * float(length_A)\n",
    "area_B = float(length_B) * float(length_B)\n",
    "\n",
    "print(\"Which apartment has bigger balcony?\", end = \" \")\n",
    "if area_A >= area_B:\n",
    "    print(\"Apartement A\")\n",
    "else:\n",
    "    print(\"Apartement B\")"
   ]
  }
 ],
 "metadata": {
  "kernelspec": {
   "display_name": "Python 3",
   "language": "python",
   "name": "python3"
  },
  "language_info": {
   "codemirror_mode": {
    "name": "ipython",
    "version": 3
   },
   "file_extension": ".py",
   "mimetype": "text/x-python",
   "name": "python",
   "nbconvert_exporter": "python",
   "pygments_lexer": "ipython3",
   "version": "3.8.8"
  }
 },
 "nbformat": 4,
 "nbformat_minor": 5
}
