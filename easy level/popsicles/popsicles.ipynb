{
 "cells": [
  {
   "cell_type": "code",
   "execution_count": 4,
   "id": "73e80567",
   "metadata": {},
   "outputs": [
    {
     "name": "stdout",
     "output_type": "stream",
     "text": [
      "How many your siblings? 7\n",
      "How many your popsicles? 2\n",
      "What should you do? eat them yourself\n"
     ]
    }
   ],
   "source": [
    "siblings = int(input(\"How many your siblings? \"))\n",
    "popsicles = int(input(\"How many your popsicles? \"))\n",
    "\n",
    "print(\"What should you do?\", end = \" \")\n",
    "if popsicles % siblings == 0:\n",
    "  print(\"give away\")\n",
    "else:\n",
    "  print(\"eat them yourself\")"
   ]
  }
 ],
 "metadata": {
  "kernelspec": {
   "display_name": "Python 3",
   "language": "python",
   "name": "python3"
  },
  "language_info": {
   "codemirror_mode": {
    "name": "ipython",
    "version": 3
   },
   "file_extension": ".py",
   "mimetype": "text/x-python",
   "name": "python",
   "nbconvert_exporter": "python",
   "pygments_lexer": "ipython3",
   "version": "3.8.8"
  }
 },
 "nbformat": 4,
 "nbformat_minor": 5
}
