{
 "cells": [
  {
   "cell_type": "code",
   "execution_count": 1,
   "id": "18238856",
   "metadata": {},
   "outputs": [
    {
     "name": "stdout",
     "output_type": "stream",
     "text": [
      "Total buyer: 7\n",
      "Profit or Loss? Broke Even\n"
     ]
    }
   ],
   "source": [
    "operasional = 10 * 2000000 + 1000000\n",
    "\n",
    "buyer = int(input(\"Total buyer: \"))\n",
    "income = buyer * 3000000\n",
    "\n",
    "print(\"Profit or Loss?\", end = \" \")\n",
    "if income < operasional:\n",
    "    print(\"Loss\")\n",
    "elif income > operasional:\n",
    "    print(\"Profit\")\n",
    "else:\n",
    "    print(\"Broke Even\")"
   ]
  }
 ],
 "metadata": {
  "kernelspec": {
   "display_name": "Python 3",
   "language": "python",
   "name": "python3"
  },
  "language_info": {
   "codemirror_mode": {
    "name": "ipython",
    "version": 3
   },
   "file_extension": ".py",
   "mimetype": "text/x-python",
   "name": "python",
   "nbconvert_exporter": "python",
   "pygments_lexer": "ipython3",
   "version": "3.8.8"
  }
 },
 "nbformat": 4,
 "nbformat_minor": 5
}
