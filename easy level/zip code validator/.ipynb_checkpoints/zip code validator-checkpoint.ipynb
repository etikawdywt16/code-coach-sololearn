{
 "cells": [
  {
   "cell_type": "code",
   "execution_count": 1,
   "id": "b7a81937",
   "metadata": {},
   "outputs": [
    {
     "name": "stdout",
     "output_type": "stream",
     "text": [
      "ZIP: ghy67\n",
      "Is it a valid ZIP code? false\n"
     ]
    }
   ],
   "source": [
    "zip = input(\"ZIP: \")\n",
    "\n",
    "print(\"Is it a valid ZIP code? \", end = \"\")\n",
    "if len(zip) == 5:\n",
    "    try:\n",
    "        int(zip)\n",
    "        print(\"true\")\n",
    "    except:\n",
    "        print(\"false\")\n",
    "else:\n",
    "    print(\"false\")"
   ]
  }
 ],
 "metadata": {
  "kernelspec": {
   "display_name": "Python 3",
   "language": "python",
   "name": "python3"
  },
  "language_info": {
   "codemirror_mode": {
    "name": "ipython",
    "version": 3
   },
   "file_extension": ".py",
   "mimetype": "text/x-python",
   "name": "python",
   "nbconvert_exporter": "python",
   "pygments_lexer": "ipython3",
   "version": "3.8.8"
  }
 },
 "nbformat": 4,
 "nbformat_minor": 5
}
