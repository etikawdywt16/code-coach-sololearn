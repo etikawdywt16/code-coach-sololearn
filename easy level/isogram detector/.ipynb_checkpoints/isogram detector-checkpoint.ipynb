{
 "cells": [
  {
   "cell_type": "code",
   "execution_count": 1,
   "id": "5dd3d25a",
   "metadata": {},
   "outputs": [
    {
     "name": "stdout",
     "output_type": "stream",
     "text": [
      "Input a word: cerebral\n",
      "Is the word an isogram? false\n"
     ]
    }
   ],
   "source": [
    "word = input(\"Input a word: \")\n",
    "\n",
    "word_set = set(word)\n",
    "\n",
    "print(\"Is the word an isogram? \", end = \"\")\n",
    "if len(word_set) < len(word):\n",
    "    print(\"false\")\n",
    "else:\n",
    "    print(\"true\")"
   ]
  }
 ],
 "metadata": {
  "kernelspec": {
   "display_name": "Python 3",
   "language": "python",
   "name": "python3"
  },
  "language_info": {
   "codemirror_mode": {
    "name": "ipython",
    "version": 3
   },
   "file_extension": ".py",
   "mimetype": "text/x-python",
   "name": "python",
   "nbconvert_exporter": "python",
   "pygments_lexer": "ipython3",
   "version": "3.8.8"
  }
 },
 "nbformat": 4,
 "nbformat_minor": 5
}
