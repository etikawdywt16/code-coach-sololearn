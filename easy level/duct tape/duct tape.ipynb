{
 "cells": [
  {
   "cell_type": "code",
   "execution_count": 1,
   "id": "b339ce45",
   "metadata": {},
   "outputs": [
    {
     "name": "stdout",
     "output_type": "stream",
     "text": [
      "Height of the door: 7\n",
      "Width of the door: 4\n",
      "Total rolls: 6\n"
     ]
    }
   ],
   "source": [
    "from math import ceil\n",
    "\n",
    "height = int(input(\"Height of the door: \"))\n",
    "width = int(input(\"Width of the door: \"))\n",
    "\n",
    "height_duct = 60 / 12\n",
    "width_duct = 2\n",
    "\n",
    "duct = height_duct * width_duct\n",
    "door = height * width\n",
    "\n",
    "print(\"Total rolls: \", end = \"\")\n",
    "print(ceil(door / duct) * 2)"
   ]
  }
 ],
 "metadata": {
  "kernelspec": {
   "display_name": "Python 3",
   "language": "python",
   "name": "python3"
  },
  "language_info": {
   "codemirror_mode": {
    "name": "ipython",
    "version": 3
   },
   "file_extension": ".py",
   "mimetype": "text/x-python",
   "name": "python",
   "nbconvert_exporter": "python",
   "pygments_lexer": "ipython3",
   "version": "3.8.8"
  }
 },
 "nbformat": 4,
 "nbformat_minor": 5
}
