{
 "cells": [
  {
   "cell_type": "code",
   "execution_count": 1,
   "id": "fd5ee040",
   "metadata": {},
   "outputs": [
    {
     "name": "stdout",
     "output_type": "stream",
     "text": [
      "The points you get: 100\n",
      "The cost of the squirt gun (in tickets): 50\n",
      "What should you do? Try again\n"
     ]
    }
   ],
   "source": [
    "points = int(input(\"The points you get: \"))\n",
    "price = int(input(\"The cost of the squirt gun (in tickets): \"))\n",
    "\n",
    "tickets = points // 12\n",
    "\n",
    "print(\"What should you do?\", end = \" \")\n",
    "if tickets >= price:\n",
    "    print(\"Buy it!\")\n",
    "else:\n",
    "    print(\"Try again\")"
   ]
  }
 ],
 "metadata": {
  "kernelspec": {
   "display_name": "Python 3",
   "language": "python",
   "name": "python3"
  },
  "language_info": {
   "codemirror_mode": {
    "name": "ipython",
    "version": 3
   },
   "file_extension": ".py",
   "mimetype": "text/x-python",
   "name": "python",
   "nbconvert_exporter": "python",
   "pygments_lexer": "ipython3",
   "version": "3.8.8"
  }
 },
 "nbformat": 4,
 "nbformat_minor": 5
}
