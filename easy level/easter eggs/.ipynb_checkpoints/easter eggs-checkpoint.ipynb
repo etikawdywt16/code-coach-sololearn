{
 "cells": [
  {
   "cell_type": "code",
   "execution_count": 1,
   "id": "afcdac93",
   "metadata": {},
   "outputs": [
    {
     "name": "stdout",
     "output_type": "stream",
     "text": [
      "Total eggs: 100\n",
      "My eggs: 30\n",
      "My friend's eggs: 80\n",
      "Candy Time\n"
     ]
    }
   ],
   "source": [
    "eggs = int(input(\"Total eggs: \"))\n",
    "my_eggs = int(input(\"My eggs: \"))\n",
    "myfriend_eggs = int(input(\"My friend's eggs: \"))\n",
    "\n",
    "if my_eggs + myfriend_eggs < eggs:\n",
    "    print(\"Keep Hunting\")\n",
    "else:\n",
    "    print(\"Candy Time\")"
   ]
  }
 ],
 "metadata": {
  "kernelspec": {
   "display_name": "Python 3",
   "language": "python",
   "name": "python3"
  },
  "language_info": {
   "codemirror_mode": {
    "name": "ipython",
    "version": 3
   },
   "file_extension": ".py",
   "mimetype": "text/x-python",
   "name": "python",
   "nbconvert_exporter": "python",
   "pygments_lexer": "ipython3",
   "version": "3.8.8"
  }
 },
 "nbformat": 4,
 "nbformat_minor": 5
}
