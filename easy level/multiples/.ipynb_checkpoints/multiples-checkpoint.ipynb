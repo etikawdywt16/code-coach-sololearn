{
 "cells": [
  {
   "cell_type": "code",
   "execution_count": 4,
   "id": "7a41694e",
   "metadata": {},
   "outputs": [
    {
     "name": "stdout",
     "output_type": "stream",
     "text": [
      "Input a number : 4242\n",
      "Sum of all the multiples of 3 and 5 below 4242 :  4198308\n"
     ]
    }
   ],
   "source": [
    "number = int(input(\"Input a number : \"))\n",
    "\n",
    "sum = 0\n",
    "i = 0\n",
    "while i < number:\n",
    "    if i % 3 == 0 or i % 5 == 0:\n",
    "        sum += i\n",
    "    i += 1\n",
    "\n",
    "print(\"Sum of all the multiples of 3 and 5 below\", number, \": \", sum)"
   ]
  }
 ],
 "metadata": {
  "kernelspec": {
   "display_name": "Python 3",
   "language": "python",
   "name": "python3"
  },
  "language_info": {
   "codemirror_mode": {
    "name": "ipython",
    "version": 3
   },
   "file_extension": ".py",
   "mimetype": "text/x-python",
   "name": "python",
   "nbconvert_exporter": "python",
   "pygments_lexer": "ipython3",
   "version": "3.8.8"
  }
 },
 "nbformat": 4,
 "nbformat_minor": 5
}
