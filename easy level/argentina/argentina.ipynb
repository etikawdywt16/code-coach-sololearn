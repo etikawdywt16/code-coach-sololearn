{
 "cells": [
  {
   "cell_type": "code",
   "execution_count": 1,
   "id": "d9e05b21",
   "metadata": {},
   "outputs": [
    {
     "name": "stdout",
     "output_type": "stream",
     "text": [
      "Prices in Argentinian Pesos: 400\n",
      "Prices in US Dollars: 10\n",
      "The currency you should use: Pesos\n"
     ]
    }
   ],
   "source": [
    "Pesos = int(input(\"Prices in Argentinian Pesos: \"))\n",
    "Dollars = int(input(\"Prices in US Dollars: \"))\n",
    "\n",
    "#2 cent for 1 pesos\n",
    "#1 dollar for 50 pesos\n",
    "\n",
    "Pesos_in_dollars = Pesos / 50\n",
    "\n",
    "print(\"The currency you should use:\", end = \" \")\n",
    "if Pesos_in_dollars <= Dollars:\n",
    "    print(\"Pesos\")\n",
    "else:\n",
    "    print(\"Dollars\")"
   ]
  }
 ],
 "metadata": {
  "kernelspec": {
   "display_name": "Python 3",
   "language": "python",
   "name": "python3"
  },
  "language_info": {
   "codemirror_mode": {
    "name": "ipython",
    "version": 3
   },
   "file_extension": ".py",
   "mimetype": "text/x-python",
   "name": "python",
   "nbconvert_exporter": "python",
   "pygments_lexer": "ipython3",
   "version": "3.8.8"
  }
 },
 "nbformat": 4,
 "nbformat_minor": 5
}
