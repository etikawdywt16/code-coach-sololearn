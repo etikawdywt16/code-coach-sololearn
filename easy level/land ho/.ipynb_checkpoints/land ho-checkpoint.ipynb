{
 "cells": [
  {
   "cell_type": "code",
   "execution_count": 2,
   "id": "7e5c265f",
   "metadata": {},
   "outputs": [
    {
     "name": "stdout",
     "output_type": "stream",
     "text": [
      "People in line: 8\n",
      "Time to wait: 10 minutes\n"
     ]
    }
   ],
   "source": [
    "from math import floor\n",
    "\n",
    "people = int(input(\"People in line: \"))\n",
    "\n",
    "time = floor(people / 20) * 10 * 2 + 10\n",
    "\n",
    "print(\"Time to wait: \", end = \"\")\n",
    "print(time, \"minutes\")"
   ]
  }
 ],
 "metadata": {
  "kernelspec": {
   "display_name": "Python 3",
   "language": "python",
   "name": "python3"
  },
  "language_info": {
   "codemirror_mode": {
    "name": "ipython",
    "version": 3
   },
   "file_extension": ".py",
   "mimetype": "text/x-python",
   "name": "python",
   "nbconvert_exporter": "python",
   "pygments_lexer": "ipython3",
   "version": "3.8.8"
  }
 },
 "nbformat": 4,
 "nbformat_minor": 5
}
