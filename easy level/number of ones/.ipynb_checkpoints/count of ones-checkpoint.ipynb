{
 "cells": [
  {
   "cell_type": "code",
   "execution_count": 1,
   "id": "b409be0e",
   "metadata": {},
   "outputs": [
    {
     "name": "stdout",
     "output_type": "stream",
     "text": [
      "Input a number: 9\n",
      "Count of ones in binary: 2\n"
     ]
    }
   ],
   "source": [
    "number = int(input(\"Input a number: \"))\n",
    "def binary(num):\n",
    "    if num == 1:\n",
    "        return 1\n",
    "    else:\n",
    "        return num % 2 + 10 * (binary(num // 2))\n",
    "\n",
    "binary = [int(i) for i in str(binary(number))]\n",
    "\n",
    "sum = 0\n",
    "for j in binary:\n",
    "    sum += j\n",
    "\n",
    "print(\"Count of ones in binary: \", end = \"\")\n",
    "print(sum)"
   ]
  }
 ],
 "metadata": {
  "kernelspec": {
   "display_name": "Python 3",
   "language": "python",
   "name": "python3"
  },
  "language_info": {
   "codemirror_mode": {
    "name": "ipython",
    "version": 3
   },
   "file_extension": ".py",
   "mimetype": "text/x-python",
   "name": "python",
   "nbconvert_exporter": "python",
   "pygments_lexer": "ipython3",
   "version": "3.8.8"
  }
 },
 "nbformat": 4,
 "nbformat_minor": 5
}
