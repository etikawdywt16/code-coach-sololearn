{
 "cells": [
  {
   "cell_type": "code",
   "execution_count": 5,
   "id": "7affb829",
   "metadata": {},
   "outputs": [
    {
     "name": "stdout",
     "output_type": "stream",
     "text": [
      "Text: nevermind its just a dream\n",
      "Translate to Pig Latin: evermindnay tsiay ustjay aay reamday\n"
     ]
    }
   ],
   "source": [
    "text = input(\"Text: \")\n",
    "\n",
    "new_text = []\n",
    "\n",
    "for i in text.split():\n",
    "    word_in_piglatin = i[1:], i[0], \"ay\"\n",
    "    join_word = \"\".join(word_in_piglatin)\n",
    "    new_text.append(join_word)\n",
    "    \n",
    "print(\"Translate to Pig Latin: \" + \" \".join(new_text))"
   ]
  }
 ],
 "metadata": {
  "kernelspec": {
   "display_name": "Python 3",
   "language": "python",
   "name": "python3"
  },
  "language_info": {
   "codemirror_mode": {
    "name": "ipython",
    "version": 3
   },
   "file_extension": ".py",
   "mimetype": "text/x-python",
   "name": "python",
   "nbconvert_exporter": "python",
   "pygments_lexer": "ipython3",
   "version": "3.8.8"
  }
 },
 "nbformat": 4,
 "nbformat_minor": 5
}
