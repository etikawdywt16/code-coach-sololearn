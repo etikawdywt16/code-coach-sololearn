{
 "cells": [
  {
   "cell_type": "code",
   "execution_count": 1,
   "id": "df6686ee",
   "metadata": {},
   "outputs": [
    {
     "name": "stdout",
     "output_type": "stream",
     "text": [
      "Enter your random letter: aaaaabbbfjdal\n",
      "Deja Vu or Unique: Deja Vu\n"
     ]
    }
   ],
   "source": [
    "text = input(\"Enter your random letter: \")\n",
    "\n",
    "text_set = set(list(text))\n",
    "\n",
    "print(\"Deja Vu or Unique:\", end = \" \")\n",
    "if len(text) > len(text_set):\n",
    "    print(\"Deja Vu\")\n",
    "else:\n",
    "    print(\"Unique\")"
   ]
  }
 ],
 "metadata": {
  "kernelspec": {
   "display_name": "Python 3",
   "language": "python",
   "name": "python3"
  },
  "language_info": {
   "codemirror_mode": {
    "name": "ipython",
    "version": 3
   },
   "file_extension": ".py",
   "mimetype": "text/x-python",
   "name": "python",
   "nbconvert_exporter": "python",
   "pygments_lexer": "ipython3",
   "version": "3.8.8"
  }
 },
 "nbformat": 4,
 "nbformat_minor": 5
}
